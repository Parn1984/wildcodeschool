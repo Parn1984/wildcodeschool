{
  "nbformat": 4,
  "nbformat_minor": 0,
  "metadata": {
    "colab": {
      "name": "Marcus Sauer - Quest Content-Based NLP.ipynb",
      "provenance": [],
      "collapsed_sections": [],
      "include_colab_link": true
    },
    "kernelspec": {
      "name": "python3",
      "display_name": "Python 3"
    }
  },
  "cells": [
    {
      "cell_type": "markdown",
      "metadata": {
        "id": "view-in-github",
        "colab_type": "text"
      },
      "source": [
        "<a href=\"https://colab.research.google.com/github/Parn1984/wildcodeschool/blob/master/Marcus_Sauer_Quest_Content_Based_NLP.ipynb\" target=\"_parent\"><img src=\"https://colab.research.google.com/assets/colab-badge.svg\" alt=\"Open In Colab\"/></a>"
      ]
    },
    {
      "cell_type": "markdown",
      "metadata": {
        "id": "RVqSSHaerQiK"
      },
      "source": [
        "# Preparation\n",
        "Import Pandas and download the [dataset](https://drive.google.com/file/d/1z0gUGO4zviBiTYnIZQYrhbfRfuMTdNfz/view?usp=sharing). This time, you will be dealing with the reviews users left for various NYC restaurants they've visited."
      ]
    },
    {
      "cell_type": "code",
      "metadata": {
        "id": "jAUe5gnhWgAG",
        "outputId": "b8e76e03-0844-4487-e124-5955d9d13af0",
        "colab": {
          "base_uri": "https://localhost:8080/",
          "height": 419
        }
      },
      "source": [
        "import pandas as pd\n",
        "nyc_restaurants_tips = pd.read_csv('/content/drive/My Drive/NY_Restauraunts_tips.csv', encoding='latin-1')\n",
        "nyc_restaurants_tips.sort_values(by='user_ID')"
      ],
      "execution_count": null,
      "outputs": [
        {
          "output_type": "execute_result",
          "data": {
            "text/html": [
              "<div>\n",
              "<style scoped>\n",
              "    .dataframe tbody tr th:only-of-type {\n",
              "        vertical-align: middle;\n",
              "    }\n",
              "\n",
              "    .dataframe tbody tr th {\n",
              "        vertical-align: top;\n",
              "    }\n",
              "\n",
              "    .dataframe thead th {\n",
              "        text-align: right;\n",
              "    }\n",
              "</style>\n",
              "<table border=\"1\" class=\"dataframe\">\n",
              "  <thead>\n",
              "    <tr style=\"text-align: right;\">\n",
              "      <th></th>\n",
              "      <th>venue_ID</th>\n",
              "      <th>user_ID</th>\n",
              "      <th>tips</th>\n",
              "    </tr>\n",
              "  </thead>\n",
              "  <tbody>\n",
              "    <tr>\n",
              "      <th>0</th>\n",
              "      <td>24436</td>\n",
              "      <td>15</td>\n",
              "      <td>make your own sandwich: tuna salad on country ...</td>\n",
              "    </tr>\n",
              "    <tr>\n",
              "      <th>16</th>\n",
              "      <td>63386</td>\n",
              "      <td>20</td>\n",
              "      <td>An oldie but still a goodie. Best croque monsi...</td>\n",
              "    </tr>\n",
              "    <tr>\n",
              "      <th>15</th>\n",
              "      <td>12533</td>\n",
              "      <td>20</td>\n",
              "      <td>If you're a fan of our great city and its icon...</td>\n",
              "    </tr>\n",
              "    <tr>\n",
              "      <th>14</th>\n",
              "      <td>211609</td>\n",
              "      <td>20</td>\n",
              "      <td>If you want an authentic experience, think aga...</td>\n",
              "    </tr>\n",
              "    <tr>\n",
              "      <th>13</th>\n",
              "      <td>105277</td>\n",
              "      <td>20</td>\n",
              "      <td>love eating outside here :)</td>\n",
              "    </tr>\n",
              "    <tr>\n",
              "      <th>...</th>\n",
              "      <td>...</td>\n",
              "      <td>...</td>\n",
              "      <td>...</td>\n",
              "    </tr>\n",
              "    <tr>\n",
              "      <th>10372</th>\n",
              "      <td>2677</td>\n",
              "      <td>2358357</td>\n",
              "      <td>Way too crowded due to the construction at 7th...</td>\n",
              "    </tr>\n",
              "    <tr>\n",
              "      <th>10373</th>\n",
              "      <td>48037</td>\n",
              "      <td>2376156</td>\n",
              "      <td>Not for the faint of heart</td>\n",
              "    </tr>\n",
              "    <tr>\n",
              "      <th>10374</th>\n",
              "      <td>231830</td>\n",
              "      <td>2376156</td>\n",
              "      <td>It's goin down Tonight on The Stage (Open Mic ...</td>\n",
              "    </tr>\n",
              "    <tr>\n",
              "      <th>10375</th>\n",
              "      <td>22278</td>\n",
              "      <td>2422200</td>\n",
              "      <td>In 2011, 60% of the 25,000 orange, red and whi...</td>\n",
              "    </tr>\n",
              "    <tr>\n",
              "      <th>10376</th>\n",
              "      <td>22278</td>\n",
              "      <td>2422200</td>\n",
              "      <td>Developed by Harold Hinn &amp; the Residence Halls...</td>\n",
              "    </tr>\n",
              "  </tbody>\n",
              "</table>\n",
              "<p>10377 rows × 3 columns</p>\n",
              "</div>"
            ],
            "text/plain": [
              "       venue_ID  user_ID                                               tips\n",
              "0         24436       15  make your own sandwich: tuna salad on country ...\n",
              "16        63386       20  An oldie but still a goodie. Best croque monsi...\n",
              "15        12533       20  If you're a fan of our great city and its icon...\n",
              "14       211609       20  If you want an authentic experience, think aga...\n",
              "13       105277       20                        love eating outside here :)\n",
              "...         ...      ...                                                ...\n",
              "10372      2677  2358357  Way too crowded due to the construction at 7th...\n",
              "10373     48037  2376156                         Not for the faint of heart\n",
              "10374    231830  2376156  It's goin down Tonight on The Stage (Open Mic ...\n",
              "10375     22278  2422200  In 2011, 60% of the 25,000 orange, red and whi...\n",
              "10376     22278  2422200  Developed by Harold Hinn & the Residence Halls...\n",
              "\n",
              "[10377 rows x 3 columns]"
            ]
          },
          "metadata": {
            "tags": []
          },
          "execution_count": 4
        }
      ]
    },
    {
      "cell_type": "code",
      "metadata": {
        "id": "SrATLGn_TIr3",
        "outputId": "273d8c24-74c0-4816-b9a4-3d9a0478f4f5",
        "colab": {
          "base_uri": "https://localhost:8080/",
          "height": 55
        }
      },
      "source": [
        "print(nyc_restaurants_tips.venue_ID.nunique())\n",
        "print(nyc_restaurants_tips.user_ID.nunique())"
      ],
      "execution_count": null,
      "outputs": [
        {
          "output_type": "stream",
          "text": [
            "3112\n",
            "3298\n"
          ],
          "name": "stdout"
        }
      ]
    },
    {
      "cell_type": "markdown",
      "metadata": {
        "id": "PZkJHe8crvOd"
      },
      "source": [
        "Just like before, we will be making recommendations for the user who wrote more reviews than others. More data - better recommendations. Find this user and show all the restaurants the user reviewed in the code cell below. Make sure to save the list of the restaurants reviewed by the user."
      ]
    },
    {
      "cell_type": "code",
      "metadata": {
        "id": "_zH7koD2oJbG"
      },
      "source": [
        "# your code\n"
      ],
      "execution_count": null,
      "outputs": []
    },
    {
      "cell_type": "markdown",
      "metadata": {
        "id": "0vGUNOGJsHdL"
      },
      "source": [
        "We will be relying on NLP techniques to generate restaurant features. For each of the venues, put together all the reviews it received and save your result as a dataframe."
      ]
    },
    {
      "cell_type": "code",
      "metadata": {
        "id": "6VVBchY-jPhX"
      },
      "source": [
        "# your code\n"
      ],
      "execution_count": null,
      "outputs": []
    },
    {
      "cell_type": "markdown",
      "metadata": {
        "id": "qtdnASHQs_Td"
      },
      "source": [
        "Now do the same for users - a dataframe which combines all the reviews written by each user."
      ]
    },
    {
      "cell_type": "code",
      "metadata": {
        "id": "4hpjhdF-mS4r"
      },
      "source": [
        "# your code\n"
      ],
      "execution_count": null,
      "outputs": []
    },
    {
      "cell_type": "markdown",
      "metadata": {
        "id": "kHLxbYxrtOks"
      },
      "source": [
        "Filter the dataframe above to only show the reviews written by the user who wrote most of reviews (you already identified the user a few steps back). Your dataframe will have one row, since it only shows the reviews written by one user."
      ]
    },
    {
      "cell_type": "code",
      "metadata": {
        "id": "rHp0gwoEpqi9"
      },
      "source": [
        "# your code\n"
      ],
      "execution_count": null,
      "outputs": []
    },
    {
      "cell_type": "markdown",
      "metadata": {
        "id": "_tSt2SAewkM6"
      },
      "source": [
        "Now, filter the dataframe with all the restaurant reviews to exclude those already reviewed by our target user - otherwise they will still show up among recommendations. "
      ]
    },
    {
      "cell_type": "code",
      "metadata": {
        "id": "Ls15saAjwka-"
      },
      "source": [
        "# your code:\n"
      ],
      "execution_count": null,
      "outputs": []
    },
    {
      "cell_type": "markdown",
      "metadata": {
        "id": "2RBv7Afntyt8"
      },
      "source": [
        "Lemmatize the reviews in the single user dataframe"
      ]
    },
    {
      "cell_type": "code",
      "metadata": {
        "id": "p4rHEz5ZN4Ua"
      },
      "source": [
        "# your code\n"
      ],
      "execution_count": null,
      "outputs": []
    },
    {
      "cell_type": "markdown",
      "metadata": {
        "id": "1u1az3ipuFRa"
      },
      "source": [
        "Now, take the dataframe where you combined all the review texts per restaurant and filtered out the restaurants already reviewed by your target user, and lemmatize these texts too."
      ]
    },
    {
      "cell_type": "code",
      "metadata": {
        "id": "CqniSFIBmi9b"
      },
      "source": [
        "# your code\n"
      ],
      "execution_count": null,
      "outputs": []
    },
    {
      "cell_type": "markdown",
      "metadata": {
        "id": "KEP0mlzSukVa"
      },
      "source": [
        "Use the TF-IDF vectorizer to create a matrix showing TF-IDF frequencies of all the words used in the restaurant reviews. Your final matrix should have the number of rows corresponding to the number of restaurants, and the number of columns corresponding to all the unique (lemmatized) words found in all the reviews in the dataset."
      ]
    },
    {
      "cell_type": "code",
      "metadata": {
        "id": "5-Kqw889mwgc"
      },
      "source": [
        "# your code\n"
      ],
      "execution_count": null,
      "outputs": []
    },
    {
      "cell_type": "markdown",
      "metadata": {
        "id": "fbZSwtg5vI8P"
      },
      "source": [
        "Now, using the TD-IDF vectorizer fitted on the restaurant reviews data, transform the lemmatized review texts by the most prolific user. The result will be a vector with the length equal to the total number unique of words (same as in the matrix calculated in the step above)"
      ]
    },
    {
      "cell_type": "code",
      "metadata": {
        "id": "7llKL-I5SqUg"
      },
      "source": [
        "# your code\n"
      ],
      "execution_count": null,
      "outputs": []
    },
    {
      "cell_type": "markdown",
      "metadata": {
        "id": "8R746dXbxg_I"
      },
      "source": [
        "Calculate the cosine similarity between the user vector and the restaurant matrix, and generate a recommendation based on 5 restaurants with the highest cosine similarity score."
      ]
    },
    {
      "cell_type": "code",
      "metadata": {
        "id": "3dLnVSR6qooV"
      },
      "source": [
        "# your code\n"
      ],
      "execution_count": null,
      "outputs": []
    }
  ]
}