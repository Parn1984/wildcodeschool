{
 "cells": [
  {
   "cell_type": "markdown",
   "metadata": {
    "colab_type": "text",
    "id": "view-in-github"
   },
   "source": [
    "<a href=\"https://colab.research.google.com/github/Parn1984/wildcodeschool/blob/master/Marcus_Sauer_Quest_Content_Based_NLP.ipynb\" target=\"_parent\"><img src=\"https://colab.research.google.com/assets/colab-badge.svg\" alt=\"Open In Colab\"/></a>"
   ]
  },
  {
   "cell_type": "markdown",
   "metadata": {
    "id": "RVqSSHaerQiK"
   },
   "source": [
    "# Preparation\n",
    "Import Pandas and download the [dataset](https://drive.google.com/file/d/1z0gUGO4zviBiTYnIZQYrhbfRfuMTdNfz/view?usp=sharing). This time, you will be dealing with the reviews users left for various NYC restaurants they've visited."
   ]
  },
  {
   "cell_type": "code",
   "execution_count": 20,
   "metadata": {
    "colab": {
     "base_uri": "https://localhost:8080/",
     "height": 419
    },
    "id": "jAUe5gnhWgAG",
    "outputId": "b8e76e03-0844-4487-e124-5955d9d13af0"
   },
   "outputs": [
    {
     "data": {
      "text/html": [
       "<div>\n",
       "<style scoped>\n",
       "    .dataframe tbody tr th:only-of-type {\n",
       "        vertical-align: middle;\n",
       "    }\n",
       "\n",
       "    .dataframe tbody tr th {\n",
       "        vertical-align: top;\n",
       "    }\n",
       "\n",
       "    .dataframe thead th {\n",
       "        text-align: right;\n",
       "    }\n",
       "</style>\n",
       "<table border=\"1\" class=\"dataframe\">\n",
       "  <thead>\n",
       "    <tr style=\"text-align: right;\">\n",
       "      <th></th>\n",
       "      <th>venue_ID</th>\n",
       "      <th>user_ID</th>\n",
       "      <th>tips</th>\n",
       "    </tr>\n",
       "  </thead>\n",
       "  <tbody>\n",
       "    <tr>\n",
       "      <th>0</th>\n",
       "      <td>24436</td>\n",
       "      <td>15</td>\n",
       "      <td>make your own sandwich: tuna salad on country ...</td>\n",
       "    </tr>\n",
       "    <tr>\n",
       "      <th>16</th>\n",
       "      <td>63386</td>\n",
       "      <td>20</td>\n",
       "      <td>An oldie but still a goodie. Best croque monsi...</td>\n",
       "    </tr>\n",
       "    <tr>\n",
       "      <th>15</th>\n",
       "      <td>12533</td>\n",
       "      <td>20</td>\n",
       "      <td>If you're a fan of our great city and its icon...</td>\n",
       "    </tr>\n",
       "    <tr>\n",
       "      <th>14</th>\n",
       "      <td>211609</td>\n",
       "      <td>20</td>\n",
       "      <td>If you want an authentic experience, think aga...</td>\n",
       "    </tr>\n",
       "    <tr>\n",
       "      <th>13</th>\n",
       "      <td>105277</td>\n",
       "      <td>20</td>\n",
       "      <td>love eating outside here :)</td>\n",
       "    </tr>\n",
       "    <tr>\n",
       "      <th>...</th>\n",
       "      <td>...</td>\n",
       "      <td>...</td>\n",
       "      <td>...</td>\n",
       "    </tr>\n",
       "    <tr>\n",
       "      <th>10372</th>\n",
       "      <td>2677</td>\n",
       "      <td>2358357</td>\n",
       "      <td>Way too crowded due to the construction at 7th...</td>\n",
       "    </tr>\n",
       "    <tr>\n",
       "      <th>10373</th>\n",
       "      <td>48037</td>\n",
       "      <td>2376156</td>\n",
       "      <td>Not for the faint of heart</td>\n",
       "    </tr>\n",
       "    <tr>\n",
       "      <th>10374</th>\n",
       "      <td>231830</td>\n",
       "      <td>2376156</td>\n",
       "      <td>It's goin down Tonight on The Stage (Open Mic ...</td>\n",
       "    </tr>\n",
       "    <tr>\n",
       "      <th>10375</th>\n",
       "      <td>22278</td>\n",
       "      <td>2422200</td>\n",
       "      <td>In 2011, 60% of the 25,000 orange, red and whi...</td>\n",
       "    </tr>\n",
       "    <tr>\n",
       "      <th>10376</th>\n",
       "      <td>22278</td>\n",
       "      <td>2422200</td>\n",
       "      <td>Developed by Harold Hinn &amp; the Residence Halls...</td>\n",
       "    </tr>\n",
       "  </tbody>\n",
       "</table>\n",
       "<p>10377 rows × 3 columns</p>\n",
       "</div>"
      ],
      "text/plain": [
       "       venue_ID  user_ID                                               tips\n",
       "0         24436       15  make your own sandwich: tuna salad on country ...\n",
       "16        63386       20  An oldie but still a goodie. Best croque monsi...\n",
       "15        12533       20  If you're a fan of our great city and its icon...\n",
       "14       211609       20  If you want an authentic experience, think aga...\n",
       "13       105277       20                        love eating outside here :)\n",
       "...         ...      ...                                                ...\n",
       "10372      2677  2358357  Way too crowded due to the construction at 7th...\n",
       "10373     48037  2376156                         Not for the faint of heart\n",
       "10374    231830  2376156  It's goin down Tonight on The Stage (Open Mic ...\n",
       "10375     22278  2422200  In 2011, 60% of the 25,000 orange, red and whi...\n",
       "10376     22278  2422200  Developed by Harold Hinn & the Residence Halls...\n",
       "\n",
       "[10377 rows x 3 columns]"
      ]
     },
     "execution_count": 20,
     "metadata": {},
     "output_type": "execute_result"
    }
   ],
   "source": [
    "from IPython.display import display\n",
    "import pandas as pd\n",
    "nyc_restaurants_tips = pd.read_csv('NY_Restauraunts_tips.csv', encoding='latin-1')\n",
    "nyc_restaurants_tips.sort_values(by='user_ID')"
   ]
  },
  {
   "cell_type": "code",
   "execution_count": 22,
   "metadata": {
    "colab": {
     "base_uri": "https://localhost:8080/",
     "height": 55
    },
    "id": "SrATLGn_TIr3",
    "outputId": "273d8c24-74c0-4816-b9a4-3d9a0478f4f5"
   },
   "outputs": [
    {
     "data": {
      "text/plain": [
       "3112"
      ]
     },
     "metadata": {},
     "output_type": "display_data"
    },
    {
     "data": {
      "text/plain": [
       "3298"
      ]
     },
     "metadata": {},
     "output_type": "display_data"
    }
   ],
   "source": [
    "display(nyc_restaurants_tips.venue_ID.nunique())\n",
    "display(nyc_restaurants_tips.user_ID.nunique())"
   ]
  },
  {
   "cell_type": "markdown",
   "metadata": {
    "id": "PZkJHe8crvOd"
   },
   "source": [
    "Just like before, we will be making recommendations for the user who wrote more reviews than others. More data - better recommendations. Find this user and show all the restaurants the user reviewed in the code cell below. Make sure to save the list of the restaurants reviewed by the user."
   ]
  },
  {
   "cell_type": "code",
   "execution_count": 40,
   "metadata": {
    "id": "_zH7koD2oJbG",
    "pycharm": {
     "is_executing": true
    }
   },
   "outputs": [
    {
     "data": {
      "text/html": [
       "<div>\n",
       "<style scoped>\n",
       "    .dataframe tbody tr th:only-of-type {\n",
       "        vertical-align: middle;\n",
       "    }\n",
       "\n",
       "    .dataframe tbody tr th {\n",
       "        vertical-align: top;\n",
       "    }\n",
       "\n",
       "    .dataframe thead th {\n",
       "        text-align: right;\n",
       "    }\n",
       "</style>\n",
       "<table border=\"1\" class=\"dataframe\">\n",
       "  <thead>\n",
       "    <tr style=\"text-align: right;\">\n",
       "      <th></th>\n",
       "      <th>venue_ID</th>\n",
       "      <th>user_ID</th>\n",
       "      <th>tips</th>\n",
       "    </tr>\n",
       "  </thead>\n",
       "  <tbody>\n",
       "    <tr>\n",
       "      <th>1838</th>\n",
       "      <td>82569</td>\n",
       "      <td>3184</td>\n",
       "      <td>The Shake Shack cheeseburger is a classic of A...</td>\n",
       "    </tr>\n",
       "    <tr>\n",
       "      <th>1839</th>\n",
       "      <td>72</td>\n",
       "      <td>3184</td>\n",
       "      <td>the 'shroom burger is the best thing here: bit...</td>\n",
       "    </tr>\n",
       "    <tr>\n",
       "      <th>1840</th>\n",
       "      <td>72</td>\n",
       "      <td>3184</td>\n",
       "      <td>eat a giant \\</td>\n",
       "    </tr>\n",
       "    <tr>\n",
       "      <th>1841</th>\n",
       "      <td>20555</td>\n",
       "      <td>3184</td>\n",
       "      <td>Double Stack, cheese fries &amp; a beer, baby. Not...</td>\n",
       "    </tr>\n",
       "    <tr>\n",
       "      <th>1842</th>\n",
       "      <td>82569</td>\n",
       "      <td>3184</td>\n",
       "      <td>Winner of Best Drive-In in the Village Voice 2...</td>\n",
       "    </tr>\n",
       "    <tr>\n",
       "      <th>1843</th>\n",
       "      <td>204657</td>\n",
       "      <td>3184</td>\n",
       "      <td>Best hamburgers in the city- Shack Burger!</td>\n",
       "    </tr>\n",
       "    <tr>\n",
       "      <th>1844</th>\n",
       "      <td>15236</td>\n",
       "      <td>3184</td>\n",
       "      <td>Concrete jungle shake is ridiculously awesome!!!</td>\n",
       "    </tr>\n",
       "    <tr>\n",
       "      <th>1845</th>\n",
       "      <td>31572</td>\n",
       "      <td>3184</td>\n",
       "      <td>Go hard or go home - get the Shack Stack!</td>\n",
       "    </tr>\n",
       "    <tr>\n",
       "      <th>1846</th>\n",
       "      <td>27404</td>\n",
       "      <td>3184</td>\n",
       "      <td>Food is great, but yes the line really is that...</td>\n",
       "    </tr>\n",
       "    <tr>\n",
       "      <th>1847</th>\n",
       "      <td>21920</td>\n",
       "      <td>3184</td>\n",
       "      <td>Once you have your burger, stop by Gilt City a...</td>\n",
       "    </tr>\n",
       "    <tr>\n",
       "      <th>1848</th>\n",
       "      <td>25807</td>\n",
       "      <td>3184</td>\n",
       "      <td>Try the ShackBurger and spot it on Foodspotting</td>\n",
       "    </tr>\n",
       "    <tr>\n",
       "      <th>1849</th>\n",
       "      <td>34832</td>\n",
       "      <td>3184</td>\n",
       "      <td>Finally went here for a Shackburger and cheese...</td>\n",
       "    </tr>\n",
       "    <tr>\n",
       "      <th>1850</th>\n",
       "      <td>163242</td>\n",
       "      <td>3184</td>\n",
       "      <td>shroom burger &amp; best fries.</td>\n",
       "    </tr>\n",
       "    <tr>\n",
       "      <th>1851</th>\n",
       "      <td>63386</td>\n",
       "      <td>3184</td>\n",
       "      <td>Still my favorite burger in the city! Only com...</td>\n",
       "    </tr>\n",
       "    <tr>\n",
       "      <th>1852</th>\n",
       "      <td>39215</td>\n",
       "      <td>3184</td>\n",
       "      <td>Try the Shack Burger and spot it on Foodspotting!</td>\n",
       "    </tr>\n",
       "    <tr>\n",
       "      <th>1853</th>\n",
       "      <td>28761</td>\n",
       "      <td>3184</td>\n",
       "      <td>Try the Shack Burger and spot it on Foodspotting!</td>\n",
       "    </tr>\n",
       "    <tr>\n",
       "      <th>1854</th>\n",
       "      <td>36758</td>\n",
       "      <td>3184</td>\n",
       "      <td>The ShackBurger with cheese fries is fantastic...</td>\n",
       "    </tr>\n",
       "    <tr>\n",
       "      <th>1855</th>\n",
       "      <td>42406</td>\n",
       "      <td>3184</td>\n",
       "      <td>can do without a shake or hot food??use the B ...</td>\n",
       "    </tr>\n",
       "    <tr>\n",
       "      <th>1856</th>\n",
       "      <td>1671</td>\n",
       "      <td>3184</td>\n",
       "      <td>sit outside with your doggy,they're super pet ...</td>\n",
       "    </tr>\n",
       "    <tr>\n",
       "      <th>1857</th>\n",
       "      <td>37946</td>\n",
       "      <td>3184</td>\n",
       "      <td>Use the online web cam to avoid lines-go earli...</td>\n",
       "    </tr>\n",
       "    <tr>\n",
       "      <th>1858</th>\n",
       "      <td>18653</td>\n",
       "      <td>3184</td>\n",
       "      <td>Order the cheese burger if you're willing to w...</td>\n",
       "    </tr>\n",
       "    <tr>\n",
       "      <th>1859</th>\n",
       "      <td>2977</td>\n",
       "      <td>3184</td>\n",
       "      <td>everyone gets the burger. But the hot dogs are...</td>\n",
       "    </tr>\n",
       "    <tr>\n",
       "      <th>1860</th>\n",
       "      <td>49297</td>\n",
       "      <td>3184</td>\n",
       "      <td>a good substitute when you're craving In-n-Out...</td>\n",
       "    </tr>\n",
       "    <tr>\n",
       "      <th>1861</th>\n",
       "      <td>60486</td>\n",
       "      <td>3184</td>\n",
       "      <td>That's my name!</td>\n",
       "    </tr>\n",
       "    <tr>\n",
       "      <th>1862</th>\n",
       "      <td>11023</td>\n",
       "      <td>3184</td>\n",
       "      <td>Double Shack Burger + Milk Shake together is a...</td>\n",
       "    </tr>\n",
       "    <tr>\n",
       "      <th>1863</th>\n",
       "      <td>196154</td>\n",
       "      <td>3184</td>\n",
       "      <td>I know, everyone comes here for burgers, but h...</td>\n",
       "    </tr>\n",
       "  </tbody>\n",
       "</table>\n",
       "</div>"
      ],
      "text/plain": [
       "      venue_ID  user_ID                                               tips\n",
       "1838     82569     3184  The Shake Shack cheeseburger is a classic of A...\n",
       "1839        72     3184  the 'shroom burger is the best thing here: bit...\n",
       "1840        72     3184                                      eat a giant \\\n",
       "1841     20555     3184  Double Stack, cheese fries & a beer, baby. Not...\n",
       "1842     82569     3184  Winner of Best Drive-In in the Village Voice 2...\n",
       "1843    204657     3184         Best hamburgers in the city- Shack Burger!\n",
       "1844     15236     3184   Concrete jungle shake is ridiculously awesome!!!\n",
       "1845     31572     3184          Go hard or go home - get the Shack Stack!\n",
       "1846     27404     3184  Food is great, but yes the line really is that...\n",
       "1847     21920     3184  Once you have your burger, stop by Gilt City a...\n",
       "1848     25807     3184    Try the ShackBurger and spot it on Foodspotting\n",
       "1849     34832     3184  Finally went here for a Shackburger and cheese...\n",
       "1850    163242     3184                        shroom burger & best fries.\n",
       "1851     63386     3184  Still my favorite burger in the city! Only com...\n",
       "1852     39215     3184  Try the Shack Burger and spot it on Foodspotting!\n",
       "1853     28761     3184  Try the Shack Burger and spot it on Foodspotting!\n",
       "1854     36758     3184  The ShackBurger with cheese fries is fantastic...\n",
       "1855     42406     3184  can do without a shake or hot food??use the B ...\n",
       "1856      1671     3184  sit outside with your doggy,they're super pet ...\n",
       "1857     37946     3184  Use the online web cam to avoid lines-go earli...\n",
       "1858     18653     3184  Order the cheese burger if you're willing to w...\n",
       "1859      2977     3184  everyone gets the burger. But the hot dogs are...\n",
       "1860     49297     3184  a good substitute when you're craving In-n-Out...\n",
       "1861     60486     3184                                    That's my name!\n",
       "1862     11023     3184  Double Shack Burger + Milk Shake together is a...\n",
       "1863    196154     3184  I know, everyone comes here for burgers, but h..."
      ]
     },
     "metadata": {},
     "output_type": "display_data"
    },
    {
     "data": {
      "text/plain": [
       "(26, 3)"
      ]
     },
     "metadata": {},
     "output_type": "display_data"
    }
   ],
   "source": [
    "# your code\n",
    "busiest_reviewer_id = nyc_restaurants_tips.groupby('user_ID').size().idxmax()\n",
    "busiest_reviewer_reviews = nyc_restaurants_tips[nyc_restaurants_tips['user_ID'] == busiest_reviewer_id]\n",
    "display(busiest_reviewer_reviews)\n",
    "display(busiest_reviewer_reviews.shape)"
   ]
  },
  {
   "cell_type": "markdown",
   "metadata": {
    "id": "0vGUNOGJsHdL"
   },
   "source": [
    "We will be relying on NLP techniques to generate restaurant features. For each of the venues, put together all the reviews it received and save your result as a dataframe."
   ]
  },
  {
   "cell_type": "code",
   "execution_count": 31,
   "metadata": {
    "id": "6VVBchY-jPhX"
   },
   "outputs": [
    {
     "data": {
      "text/html": [
       "<div>\n",
       "<style scoped>\n",
       "    .dataframe tbody tr th:only-of-type {\n",
       "        vertical-align: middle;\n",
       "    }\n",
       "\n",
       "    .dataframe tbody tr th {\n",
       "        vertical-align: top;\n",
       "    }\n",
       "\n",
       "    .dataframe thead th {\n",
       "        text-align: right;\n",
       "    }\n",
       "</style>\n",
       "<table border=\"1\" class=\"dataframe\">\n",
       "  <thead>\n",
       "    <tr style=\"text-align: right;\">\n",
       "      <th></th>\n",
       "      <th>venue_ID</th>\n",
       "      <th>reviews</th>\n",
       "    </tr>\n",
       "  </thead>\n",
       "  <tbody>\n",
       "    <tr>\n",
       "      <th>0</th>\n",
       "      <td>6</td>\n",
       "      <td>[Nice vibe in here. They give too much pasta, ...</td>\n",
       "    </tr>\n",
       "    <tr>\n",
       "      <th>1</th>\n",
       "      <td>9</td>\n",
       "      <td>[Beware: Cash only. But the Radi, Bretzel and ...</td>\n",
       "    </tr>\n",
       "    <tr>\n",
       "      <th>2</th>\n",
       "      <td>15</td>\n",
       "      <td>[Best peanut butter cookie. Ever., I used to l...</td>\n",
       "    </tr>\n",
       "    <tr>\n",
       "      <th>3</th>\n",
       "      <td>25</td>\n",
       "      <td>[Check your order. They screw something up 100...</td>\n",
       "    </tr>\n",
       "    <tr>\n",
       "      <th>4</th>\n",
       "      <td>48</td>\n",
       "      <td>[order steak frites with the au pauve sauce ft...</td>\n",
       "    </tr>\n",
       "    <tr>\n",
       "      <th>...</th>\n",
       "      <td>...</td>\n",
       "      <td>...</td>\n",
       "    </tr>\n",
       "    <tr>\n",
       "      <th>3107</th>\n",
       "      <td>266532</td>\n",
       "      <td>[Try the pineapple fried rice and the jasmine ...</td>\n",
       "    </tr>\n",
       "    <tr>\n",
       "      <th>3108</th>\n",
       "      <td>266576</td>\n",
       "      <td>[Did NOT HONOR THEIR CHECK-IN COUPON DEAL!!!!]</td>\n",
       "    </tr>\n",
       "    <tr>\n",
       "      <th>3109</th>\n",
       "      <td>266602</td>\n",
       "      <td>[Nice place for sing k]</td>\n",
       "    </tr>\n",
       "    <tr>\n",
       "      <th>3110</th>\n",
       "      <td>266616</td>\n",
       "      <td>[I definitely love this place!, I definitely l...</td>\n",
       "    </tr>\n",
       "    <tr>\n",
       "      <th>3111</th>\n",
       "      <td>266712</td>\n",
       "      <td>[Grilled cheese and tomato soup never fails.]</td>\n",
       "    </tr>\n",
       "  </tbody>\n",
       "</table>\n",
       "<p>3112 rows × 2 columns</p>\n",
       "</div>"
      ],
      "text/plain": [
       "      venue_ID                                            reviews\n",
       "0            6  [Nice vibe in here. They give too much pasta, ...\n",
       "1            9  [Beware: Cash only. But the Radi, Bretzel and ...\n",
       "2           15  [Best peanut butter cookie. Ever., I used to l...\n",
       "3           25  [Check your order. They screw something up 100...\n",
       "4           48  [order steak frites with the au pauve sauce ft...\n",
       "...        ...                                                ...\n",
       "3107    266532  [Try the pineapple fried rice and the jasmine ...\n",
       "3108    266576     [Did NOT HONOR THEIR CHECK-IN COUPON DEAL!!!!]\n",
       "3109    266602                            [Nice place for sing k]\n",
       "3110    266616  [I definitely love this place!, I definitely l...\n",
       "3111    266712      [Grilled cheese and tomato soup never fails.]\n",
       "\n",
       "[3112 rows x 2 columns]"
      ]
     },
     "metadata": {},
     "output_type": "display_data"
    }
   ],
   "source": [
    "# your code\n",
    "venue_reviews = nyc_restaurants_tips.groupby('venue_ID')['tips'].apply(list).reset_index(name='reviews')\n",
    "display(venue_reviews)"
   ]
  },
  {
   "cell_type": "markdown",
   "metadata": {
    "id": "qtdnASHQs_Td"
   },
   "source": [
    "Now do the same for users - a dataframe which combines all the reviews written by each user."
   ]
  },
  {
   "cell_type": "code",
   "execution_count": 33,
   "metadata": {
    "id": "4hpjhdF-mS4r"
   },
   "outputs": [
    {
     "data": {
      "text/html": [
       "<div>\n",
       "<style scoped>\n",
       "    .dataframe tbody tr th:only-of-type {\n",
       "        vertical-align: middle;\n",
       "    }\n",
       "\n",
       "    .dataframe tbody tr th {\n",
       "        vertical-align: top;\n",
       "    }\n",
       "\n",
       "    .dataframe thead th {\n",
       "        text-align: right;\n",
       "    }\n",
       "</style>\n",
       "<table border=\"1\" class=\"dataframe\">\n",
       "  <thead>\n",
       "    <tr style=\"text-align: right;\">\n",
       "      <th></th>\n",
       "      <th>user_ID</th>\n",
       "      <th>reviews</th>\n",
       "    </tr>\n",
       "  </thead>\n",
       "  <tbody>\n",
       "    <tr>\n",
       "      <th>0</th>\n",
       "      <td>15</td>\n",
       "      <td>[make your own sandwich: tuna salad on country...</td>\n",
       "    </tr>\n",
       "    <tr>\n",
       "      <th>1</th>\n",
       "      <td>20</td>\n",
       "      <td>[The calamari as an appetizer and the quail. P...</td>\n",
       "    </tr>\n",
       "    <tr>\n",
       "      <th>2</th>\n",
       "      <td>25</td>\n",
       "      <td>[obtener el pollo mirador. just right for thos...</td>\n",
       "    </tr>\n",
       "    <tr>\n",
       "      <th>3</th>\n",
       "      <td>26</td>\n",
       "      <td>[Ask Mike, the bartender, to put some Val Doon...</td>\n",
       "    </tr>\n",
       "    <tr>\n",
       "      <th>4</th>\n",
       "      <td>36</td>\n",
       "      <td>[Best foie gras in NYC! Thanks for telling us ...</td>\n",
       "    </tr>\n",
       "    <tr>\n",
       "      <th>...</th>\n",
       "      <td>...</td>\n",
       "      <td>...</td>\n",
       "    </tr>\n",
       "    <tr>\n",
       "      <th>3293</th>\n",
       "      <td>2232344</td>\n",
       "      <td>[Their red velvet cupcakes are delicious, but ...</td>\n",
       "    </tr>\n",
       "    <tr>\n",
       "      <th>3294</th>\n",
       "      <td>2302016</td>\n",
       "      <td>[Hilton WiFi username is Hilton, password is H...</td>\n",
       "    </tr>\n",
       "    <tr>\n",
       "      <th>3295</th>\n",
       "      <td>2358357</td>\n",
       "      <td>[Way too crowded due to the construction at 7t...</td>\n",
       "    </tr>\n",
       "    <tr>\n",
       "      <th>3296</th>\n",
       "      <td>2376156</td>\n",
       "      <td>[Not for the faint of heart, It's goin down To...</td>\n",
       "    </tr>\n",
       "    <tr>\n",
       "      <th>3297</th>\n",
       "      <td>2422200</td>\n",
       "      <td>[In 2011, 60% of the 25,000 orange, red and wh...</td>\n",
       "    </tr>\n",
       "  </tbody>\n",
       "</table>\n",
       "<p>3298 rows × 2 columns</p>\n",
       "</div>"
      ],
      "text/plain": [
       "      user_ID                                            reviews\n",
       "0          15  [make your own sandwich: tuna salad on country...\n",
       "1          20  [The calamari as an appetizer and the quail. P...\n",
       "2          25  [obtener el pollo mirador. just right for thos...\n",
       "3          26  [Ask Mike, the bartender, to put some Val Doon...\n",
       "4          36  [Best foie gras in NYC! Thanks for telling us ...\n",
       "...       ...                                                ...\n",
       "3293  2232344  [Their red velvet cupcakes are delicious, but ...\n",
       "3294  2302016  [Hilton WiFi username is Hilton, password is H...\n",
       "3295  2358357  [Way too crowded due to the construction at 7t...\n",
       "3296  2376156  [Not for the faint of heart, It's goin down To...\n",
       "3297  2422200  [In 2011, 60% of the 25,000 orange, red and wh...\n",
       "\n",
       "[3298 rows x 2 columns]"
      ]
     },
     "metadata": {},
     "output_type": "display_data"
    }
   ],
   "source": [
    "# your code\n",
    "user_reviews = nyc_restaurants_tips.groupby('user_ID')['tips'].apply(list).reset_index(name='reviews')\n",
    "display(user_reviews)"
   ]
  },
  {
   "cell_type": "markdown",
   "metadata": {
    "id": "kHLxbYxrtOks"
   },
   "source": [
    "Filter the dataframe above to only show the reviews written by the user who wrote most of reviews (you already identified the user a few steps back). Your dataframe will have one row, since it only shows the reviews written by one user."
   ]
  },
  {
   "cell_type": "code",
   "execution_count": 34,
   "metadata": {
    "id": "rHp0gwoEpqi9"
   },
   "outputs": [
    {
     "data": {
      "text/html": [
       "<div>\n",
       "<style scoped>\n",
       "    .dataframe tbody tr th:only-of-type {\n",
       "        vertical-align: middle;\n",
       "    }\n",
       "\n",
       "    .dataframe tbody tr th {\n",
       "        vertical-align: top;\n",
       "    }\n",
       "\n",
       "    .dataframe thead th {\n",
       "        text-align: right;\n",
       "    }\n",
       "</style>\n",
       "<table border=\"1\" class=\"dataframe\">\n",
       "  <thead>\n",
       "    <tr style=\"text-align: right;\">\n",
       "      <th></th>\n",
       "      <th>user_ID</th>\n",
       "      <th>reviews</th>\n",
       "    </tr>\n",
       "  </thead>\n",
       "  <tbody>\n",
       "    <tr>\n",
       "      <th>433</th>\n",
       "      <td>3184</td>\n",
       "      <td>[The Shake Shack cheeseburger is a classic of ...</td>\n",
       "    </tr>\n",
       "  </tbody>\n",
       "</table>\n",
       "</div>"
      ],
      "text/plain": [
       "     user_ID                                            reviews\n",
       "433     3184  [The Shake Shack cheeseburger is a classic of ..."
      ]
     },
     "metadata": {},
     "output_type": "display_data"
    }
   ],
   "source": [
    "# your code\n",
    "display(user_reviews[user_reviews['user_ID'] == busiest_reviewer_id])"
   ]
  },
  {
   "cell_type": "markdown",
   "metadata": {
    "id": "_tSt2SAewkM6"
   },
   "source": [
    "Now, filter the dataframe with all the restaurant reviews to exclude those already reviewed by our target user - otherwise they will still show up among recommendations. "
   ]
  },
  {
   "cell_type": "code",
   "execution_count": 41,
   "metadata": {
    "id": "Ls15saAjwka-"
   },
   "outputs": [
    {
     "data": {
      "text/html": [
       "<div>\n",
       "<style scoped>\n",
       "    .dataframe tbody tr th:only-of-type {\n",
       "        vertical-align: middle;\n",
       "    }\n",
       "\n",
       "    .dataframe tbody tr th {\n",
       "        vertical-align: top;\n",
       "    }\n",
       "\n",
       "    .dataframe thead th {\n",
       "        text-align: right;\n",
       "    }\n",
       "</style>\n",
       "<table border=\"1\" class=\"dataframe\">\n",
       "  <thead>\n",
       "    <tr style=\"text-align: right;\">\n",
       "      <th></th>\n",
       "      <th>venue_ID</th>\n",
       "      <th>reviews</th>\n",
       "    </tr>\n",
       "  </thead>\n",
       "  <tbody>\n",
       "    <tr>\n",
       "      <th>0</th>\n",
       "      <td>6</td>\n",
       "      <td>[Nice vibe in here. They give too much pasta, ...</td>\n",
       "    </tr>\n",
       "    <tr>\n",
       "      <th>1</th>\n",
       "      <td>9</td>\n",
       "      <td>[Beware: Cash only. But the Radi, Bretzel and ...</td>\n",
       "    </tr>\n",
       "    <tr>\n",
       "      <th>2</th>\n",
       "      <td>15</td>\n",
       "      <td>[Best peanut butter cookie. Ever., I used to l...</td>\n",
       "    </tr>\n",
       "    <tr>\n",
       "      <th>3</th>\n",
       "      <td>25</td>\n",
       "      <td>[Check your order. They screw something up 100...</td>\n",
       "    </tr>\n",
       "    <tr>\n",
       "      <th>4</th>\n",
       "      <td>48</td>\n",
       "      <td>[order steak frites with the au pauve sauce ft...</td>\n",
       "    </tr>\n",
       "    <tr>\n",
       "      <th>...</th>\n",
       "      <td>...</td>\n",
       "      <td>...</td>\n",
       "    </tr>\n",
       "    <tr>\n",
       "      <th>3107</th>\n",
       "      <td>266532</td>\n",
       "      <td>[Try the pineapple fried rice and the jasmine ...</td>\n",
       "    </tr>\n",
       "    <tr>\n",
       "      <th>3108</th>\n",
       "      <td>266576</td>\n",
       "      <td>[Did NOT HONOR THEIR CHECK-IN COUPON DEAL!!!!]</td>\n",
       "    </tr>\n",
       "    <tr>\n",
       "      <th>3109</th>\n",
       "      <td>266602</td>\n",
       "      <td>[Nice place for sing k]</td>\n",
       "    </tr>\n",
       "    <tr>\n",
       "      <th>3110</th>\n",
       "      <td>266616</td>\n",
       "      <td>[I definitely love this place!, I definitely l...</td>\n",
       "    </tr>\n",
       "    <tr>\n",
       "      <th>3111</th>\n",
       "      <td>266712</td>\n",
       "      <td>[Grilled cheese and tomato soup never fails.]</td>\n",
       "    </tr>\n",
       "  </tbody>\n",
       "</table>\n",
       "<p>3088 rows × 2 columns</p>\n",
       "</div>"
      ],
      "text/plain": [
       "      venue_ID                                            reviews\n",
       "0            6  [Nice vibe in here. They give too much pasta, ...\n",
       "1            9  [Beware: Cash only. But the Radi, Bretzel and ...\n",
       "2           15  [Best peanut butter cookie. Ever., I used to l...\n",
       "3           25  [Check your order. They screw something up 100...\n",
       "4           48  [order steak frites with the au pauve sauce ft...\n",
       "...        ...                                                ...\n",
       "3107    266532  [Try the pineapple fried rice and the jasmine ...\n",
       "3108    266576     [Did NOT HONOR THEIR CHECK-IN COUPON DEAL!!!!]\n",
       "3109    266602                            [Nice place for sing k]\n",
       "3110    266616  [I definitely love this place!, I definitely l...\n",
       "3111    266712      [Grilled cheese and tomato soup never fails.]\n",
       "\n",
       "[3088 rows x 2 columns]"
      ]
     },
     "metadata": {},
     "output_type": "display_data"
    }
   ],
   "source": [
    "# your code:\n",
    "already_reviewed = busiest_reviewer_reviews['venue_ID'].to_list()\n",
    "venue_reviews_cleaned = venue_reviews[~venue_reviews['venue_ID'].isin(already_reviewed)]\n",
    "display(venue_reviews_cleaned)"
   ]
  },
  {
   "cell_type": "markdown",
   "metadata": {
    "id": "2RBv7Afntyt8"
   },
   "source": [
    "Lemmatize the reviews in the single user dataframe"
   ]
  },
  {
   "cell_type": "code",
   "execution_count": 8,
   "metadata": {
    "id": "p4rHEz5ZN4Ua"
   },
   "outputs": [],
   "source": [
    "# your code\n"
   ]
  },
  {
   "cell_type": "markdown",
   "metadata": {
    "id": "1u1az3ipuFRa"
   },
   "source": [
    "Now, take the dataframe where you combined all the review texts per restaurant and filtered out the restaurants already reviewed by your target user, and lemmatize these texts too."
   ]
  },
  {
   "cell_type": "code",
   "execution_count": 9,
   "metadata": {
    "id": "CqniSFIBmi9b"
   },
   "outputs": [],
   "source": [
    "# your code\n"
   ]
  },
  {
   "cell_type": "markdown",
   "metadata": {
    "id": "KEP0mlzSukVa"
   },
   "source": [
    "Use the TF-IDF vectorizer to create a matrix showing TF-IDF frequencies of all the words used in the restaurant reviews. Your final matrix should have the number of rows corresponding to the number of restaurants, and the number of columns corresponding to all the unique (lemmatized) words found in all the reviews in the dataset."
   ]
  },
  {
   "cell_type": "code",
   "execution_count": 10,
   "metadata": {
    "id": "5-Kqw889mwgc"
   },
   "outputs": [],
   "source": [
    "# your code\n"
   ]
  },
  {
   "cell_type": "markdown",
   "metadata": {
    "id": "fbZSwtg5vI8P"
   },
   "source": [
    "Now, using the TD-IDF vectorizer fitted on the restaurant reviews data, transform the lemmatized review texts by the most prolific user. The result will be a vector with the length equal to the total number unique of words (same as in the matrix calculated in the step above)"
   ]
  },
  {
   "cell_type": "code",
   "execution_count": 11,
   "metadata": {
    "id": "7llKL-I5SqUg"
   },
   "outputs": [],
   "source": [
    "# your code\n"
   ]
  },
  {
   "cell_type": "markdown",
   "metadata": {
    "id": "8R746dXbxg_I"
   },
   "source": [
    "Calculate the cosine similarity between the user vector and the restaurant matrix, and generate a recommendation based on 5 restaurants with the highest cosine similarity score."
   ]
  },
  {
   "cell_type": "code",
   "execution_count": 12,
   "metadata": {
    "id": "3dLnVSR6qooV"
   },
   "outputs": [],
   "source": [
    "# your code\n"
   ]
  }
 ],
 "metadata": {
  "colab": {
   "collapsed_sections": [],
   "include_colab_link": true,
   "name": "Marcus Sauer - Quest Content-Based NLP.ipynb",
   "provenance": []
  },
  "kernelspec": {
   "display_name": "Python 3",
   "language": "python",
   "name": "python3"
  },
  "language_info": {
   "codemirror_mode": {
    "name": "ipython",
    "version": 3
   },
   "file_extension": ".py",
   "mimetype": "text/x-python",
   "name": "python",
   "nbconvert_exporter": "python",
   "pygments_lexer": "ipython3",
   "version": "3.8.3"
  }
 },
 "nbformat": 4,
 "nbformat_minor": 1
}
